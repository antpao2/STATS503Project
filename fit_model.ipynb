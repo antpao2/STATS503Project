{
 "cells": [
  {
   "cell_type": "code",
   "execution_count": 63,
   "id": "ac76c1bf",
   "metadata": {},
   "outputs": [],
   "source": [
    "import numpy as np\n",
    "import pandas as pd\n",
    "import seaborn as sns\n",
    "from sklearn.model_selection import train_test_split\n",
    "from sklearn.linear_model import LogisticRegression\n",
    "from sklearn.metrics import accuracy_score\n",
    "from sklearn.metrics import classification_report\n",
    "from matplotlib import pyplot as plt\n",
    "from sklearn.tree import DecisionTreeClassifier\n",
    "from sklearn import tree\n",
    "from sklearn.ensemble import RandomForestClassifier\n",
    "from sklearn.model_selection import KFold\n",
    "from sklearn.model_selection import cross_val_score\n",
    "from sklearn.feature_selection import RFECV\n",
    "from sklearn.model_selection import GridSearchCV\n",
    "from sklearn.metrics import roc_auc_score\n",
    "from sklearn.metrics import roc_curve, auc \n",
    "import imblearn\n",
    "from imblearn.over_sampling import SMOTE"
   ]
  },
  {
   "cell_type": "code",
   "execution_count": 66,
   "id": "edf90ff2",
   "metadata": {},
   "outputs": [],
   "source": [
    "#read in the data and eliminate unnecessary index columns\n",
    "df = pd.read_csv(\"final_no_pct_2000.csv\")\n",
    "df = df.drop(['Unnamed: 0', 'Unnamed: 0.1'], axis=1)"
   ]
  },
  {
   "cell_type": "code",
   "execution_count": 67,
   "id": "7582f3ec",
   "metadata": {},
   "outputs": [],
   "source": [
    "# convert response to categorical variable\n",
    "df['Playoff_Result'] = df['Playoff_Result'].astype('category')"
   ]
  },
  {
   "cell_type": "code",
   "execution_count": 68,
   "id": "84ae27d7",
   "metadata": {},
   "outputs": [],
   "source": [
    "# get the necessary columns\n",
    "df_subset_rank = df.iloc[:,[1,2,30,32,4,8,19,20,22,25,11,13,16,63,69,57,53,44,10]].copy() "
   ]
  },
  {
   "cell_type": "code",
   "execution_count": 69,
   "id": "47ef0537",
   "metadata": {},
   "outputs": [
    {
     "data": {
      "text/plain": [
       "Index(['Playoff_Result', 'Year', 'O_Sc%', 'O_EXP', 'W', 'PD', 'OP_Yds',\n",
       "       'OP_TD', 'O_NY/A', 'OR_TD', 'T_O_Yds', 'O_Y/P', 'O_1stD', 'D_EXP',\n",
       "       'D_4D%', 'D_Y/A', 'D_NY/A', 'D_Y/P', 'SoS'],\n",
       "      dtype='object')"
      ]
     },
     "execution_count": 69,
     "metadata": {},
     "output_type": "execute_result"
    }
   ],
   "source": [
    "df_subset_rank.columns"
   ]
  },
  {
   "cell_type": "markdown",
   "id": "97ba3e5e",
   "metadata": {},
   "source": [
    "# Fitting RF Models with Different Data Approaches:"
   ]
  },
  {
   "cell_type": "code",
   "execution_count": 70,
   "id": "461c1987",
   "metadata": {},
   "outputs": [],
   "source": [
    "# ranking offensive stats descending and defensive stats ascending\n",
    "cols = df_subset_rank.columns\n",
    "df_rank = df_subset_rank.copy()\n",
    "for i in cols:\n",
    "    if i == 'Playoff_Result' or i == 'Year' or i == 'SoS': # don't rank SoS?\n",
    "        continue\n",
    "    else:\n",
    "        if i in ['O_Sc%', 'O_EXP', 'W', 'PD', 'OP_Yds', 'O_NY/A', 'O_3D%', 'OR_TD', 'T_O_Yds', 'O_Y/P', 'O_1stD']:\n",
    "            df_rank[i] = df_rank.groupby(['Year'])[i].rank(ascending=False)\n",
    "        else:\n",
    "            df_rank[i] = df_rank.groupby(['Year'])[i].rank(ascending=True)"
   ]
  },
  {
   "cell_type": "code",
   "execution_count": 71,
   "id": "471a2ca4",
   "metadata": {},
   "outputs": [],
   "source": [
    "# ranking all stats descending\n",
    "cols = df_subset_rank.columns\n",
    "df_rank = df_subset_rank.copy()\n",
    "for i in cols:\n",
    "    if i == 'Playoff_Result' or i == 'Year':\n",
    "        continue\n",
    "    else:\n",
    "        df_rank[i] = df_rank.groupby(['Year'])[i].rank(ascending=False)"
   ]
  },
  {
   "cell_type": "code",
   "execution_count": 72,
   "id": "8ffc1823",
   "metadata": {},
   "outputs": [],
   "source": [
    "# ranking all stats ascending\n",
    "cols = df_subset_rank.columns\n",
    "df_rank = df_subset_rank.copy()\n",
    "for i in cols:\n",
    "    if i == 'Playoff_Result' or i == 'Year':\n",
    "        continue\n",
    "    else:\n",
    "        df_rank[i] = df_rank.groupby(['Year'])[i].rank(ascending=True)"
   ]
  },
  {
   "cell_type": "code",
   "execution_count": 73,
   "id": "51705d19",
   "metadata": {},
   "outputs": [],
   "source": [
    "# use both the data and the ranks (descending)\n",
    "cols = df_subset_rank.columns\n",
    "df_rank = df_subset_rank.copy()\n",
    "for i in cols:\n",
    "    if i == 'Playoff_Result' or i == 'Year': # don't rank SoS?\n",
    "        continue\n",
    "    else:\n",
    "        df_rank[i + \"_rank\"] = df_rank.groupby(['Year'])[i].rank(ascending=False)"
   ]
  },
  {
   "cell_type": "code",
   "execution_count": 74,
   "id": "c4303db0",
   "metadata": {},
   "outputs": [],
   "source": [
    "# use both the data and the descending offensive ranks and ascending defensive ranks\n",
    "cols = df_subset_rank.columns\n",
    "df_rank = df_subset_rank.copy()\n",
    "for i in cols:\n",
    "    if i == 'Playoff_Result' or i == 'Year' or i == 'SoS': # don't rank SoS?\n",
    "        continue\n",
    "    else: \n",
    "        if i in ['O_Sc%', 'O_EXP', 'W', 'PD', 'OP_Yds', 'O_NY/A', 'O_3D%', 'OR_TD', 'T_O_Yds', 'O_Y/P', 'O_1stD']:\n",
    "            df_rank[i + \"_rank\"] = df_rank.groupby(['Year'])[i].rank(ascending=False)\n",
    "        else:\n",
    "            df_rank[i + \"_rank\"] = df_rank.groupby(['Year'])[i].rank(ascending=True)"
   ]
  },
  {
   "cell_type": "code",
   "execution_count": 75,
   "id": "49213428",
   "metadata": {},
   "outputs": [],
   "source": [
    "# separate the response\n",
    "X = df_rank.drop(['Playoff_Result'], axis=1)\n",
    "y = df_rank['Playoff_Result']"
   ]
  },
  {
   "cell_type": "code",
   "execution_count": 76,
   "id": "912d4d33",
   "metadata": {},
   "outputs": [],
   "source": [
    "# run this if using just the data and not ranks\n",
    "X = df_subset_rank.drop(['Playoff_Result'], axis=1)\n",
    "y = df_subset_rank['Playoff_Result']"
   ]
  },
  {
   "cell_type": "code",
   "execution_count": 77,
   "id": "ccd2392b",
   "metadata": {},
   "outputs": [],
   "source": [
    "# find the best tuning parameters for the data -- use roc_auc_ovr as performance metric\n",
    "clf = DecisionTreeClassifier(random_state=100)\n",
    "path = clf.cost_complexity_pruning_path(X, y)\n",
    "ccp_alphas = path.ccp_alphas\n",
    "\n",
    "# use 5-fold CV to select the optimal tuning parameter\n",
    "kfoldcv_accuracy = np.zeros(ccp_alphas.shape[0])\n",
    "kfold = KFold(n_splits = 5, random_state=100, shuffle=True)\n",
    "for i in range(ccp_alphas.shape[0]):\n",
    "    model = RandomForestClassifier(random_state=100, ccp_alpha= ccp_alphas[i])\n",
    "    kfoldcv_accuracy[i] = np.mean(cross_val_score(model, X, y, cv = kfold, scoring='roc_auc_ovr'))"
   ]
  },
  {
   "cell_type": "code",
   "execution_count": 79,
   "id": "e66afd32",
   "metadata": {},
   "outputs": [
    {
     "name": "stdout",
     "output_type": "stream",
     "text": [
      "72\n",
      "0.047223697414479404\n"
     ]
    }
   ],
   "source": [
    "# find the tuning parameter with the best performance\n",
    "best_ind = np.argmax(kfoldcv_accuracy)\n",
    "print(best_ind) \n",
    "best = ccp_alphas[best_ind]\n",
    "print(best)"
   ]
  },
  {
   "cell_type": "code",
   "execution_count": 80,
   "id": "8c56c25f",
   "metadata": {},
   "outputs": [],
   "source": [
    "# Use GridSearchCv to tune other hyperparameters\n",
    "\n",
    "param_grid = {'max_depth': range(3,15), 'max_features':['log2','sqrt'], 'ccp_alpha':[0.0, best]}\n",
    "\n",
    "#Initialize the classifier\n",
    "rf_clf = GridSearchCV(RandomForestClassifier(random_state=100), param_grid, \n",
    "                      scoring='roc_auc_ovr',refit=False, n_jobs=-1)"
   ]
  },
  {
   "cell_type": "code",
   "execution_count": 81,
   "id": "72ecdb01",
   "metadata": {},
   "outputs": [
    {
     "name": "stdout",
     "output_type": "stream",
     "text": [
      "{'ccp_alpha': 0.0, 'max_depth': 9, 'max_features': 'log2'} 0.6850077303787334\n"
     ]
    }
   ],
   "source": [
    "x = rf_clf.fit(X, y)\n",
    "\n",
    "print(x.best_params_, x.best_score_)"
   ]
  },
  {
   "cell_type": "code",
   "execution_count": 82,
   "id": "3ddb47b9",
   "metadata": {},
   "outputs": [],
   "source": [
    "# store the optimal values for the hyperparameters\n",
    "alpha = x.best_params_.get('ccp_alpha')\n",
    "md = x.best_params_.get('max_depth')\n",
    "mf = x.best_params_.get('max_features')"
   ]
  },
  {
   "cell_type": "code",
   "execution_count": 83,
   "id": "ce5766a1",
   "metadata": {},
   "outputs": [],
   "source": [
    "# this function fits a random forest classification model with the specified hyperparameters to the data and returns\n",
    "# a tuple containing the test error and auc score\n",
    "def fit_model(train, test, alpha, md, mf):\n",
    "    # separate the response\n",
    "    X_train = train.drop(['Playoff_Result'], axis=1)\n",
    "    X_test = test.drop(['Playoff_Result'], axis=1)\n",
    "    y_train = train['Playoff_Result']\n",
    "    y_test = test['Playoff_Result']\n",
    "    \n",
    "    # fit model with best parameters\n",
    "    final_cl_rf = RandomForestClassifier(ccp_alpha=alpha, max_depth=md, max_features=mf, random_state=100)\n",
    "    final_cl_rf.fit(X_train, y_train)\n",
    "    \n",
    "    # get test error\n",
    "    y_pred = final_cl_rf.predict(X_test)\n",
    "    te = np.mean(y_pred != y_test)\n",
    "    \n",
    "    # get auc score\n",
    "    y_pred_prob = final_cl_rf.predict_proba(X_test)\n",
    "    auc = roc_auc_score(y_test, y_pred_prob, multi_class='ovr')\n",
    "    \n",
    "    return [te, auc]\n",
    "    "
   ]
  },
  {
   "cell_type": "code",
   "execution_count": 84,
   "id": "8b838af7",
   "metadata": {},
   "outputs": [],
   "source": [
    "years = list(range(2000,2023))\n",
    "test_errors = list()\n",
    "aucs = list()\n"
   ]
  },
  {
   "cell_type": "code",
   "execution_count": 85,
   "id": "e4a897b3",
   "metadata": {},
   "outputs": [],
   "source": [
    "# for each year, hold that year out as a test set and use the data for remaining years as training\n",
    "# fit a random forest classification model to the data (using each year as test set)\n",
    "# and store the test error and auc score for each model\n",
    "for year in years:\n",
    "    train = df_rank[df_rank['Year']!=year]\n",
    "    test =  df_rank[df_rank['Year']==year]\n",
    "    test_errors.append(fit_model(train, test, alpha, md, mf)[0])\n",
    "    aucs.append(fit_model(train, test, alpha, md, mf)[1])"
   ]
  },
  {
   "cell_type": "code",
   "execution_count": 86,
   "id": "35cb016d",
   "metadata": {},
   "outputs": [
    {
     "data": {
      "text/plain": [
       "[0.8333333333333334,\n",
       " 0.6666666666666666,\n",
       " 0.5833333333333334,\n",
       " 0.5833333333333334,\n",
       " 0.75,\n",
       " 0.5833333333333334,\n",
       " 0.5833333333333334,\n",
       " 0.5833333333333334,\n",
       " 0.3333333333333333,\n",
       " 0.6666666666666666,\n",
       " 0.5,\n",
       " 0.5,\n",
       " 0.5,\n",
       " 0.6666666666666666,\n",
       " 0.4166666666666667,\n",
       " 0.6666666666666666,\n",
       " 0.5833333333333334,\n",
       " 0.5833333333333334,\n",
       " 0.6666666666666666,\n",
       " 0.6666666666666666,\n",
       " 0.35714285714285715,\n",
       " 0.7857142857142857,\n",
       " 0.5]"
      ]
     },
     "execution_count": 86,
     "metadata": {},
     "output_type": "execute_result"
    }
   ],
   "source": [
    "# get the test errors\n",
    "test_errors"
   ]
  },
  {
   "cell_type": "code",
   "execution_count": 87,
   "id": "f5c190fa",
   "metadata": {},
   "outputs": [
    {
     "data": {
      "text/plain": [
       "[0.5045454545454545,\n",
       " 0.55375,\n",
       " 0.8493181818181817,\n",
       " 0.692840909090909,\n",
       " 0.7036363636363636,\n",
       " 0.7668181818181818,\n",
       " 0.730909090909091,\n",
       " 0.59375,\n",
       " 0.7960227272727273,\n",
       " 0.5818181818181818,\n",
       " 0.6259090909090909,\n",
       " 0.7232954545454546,\n",
       " 0.6831818181818182,\n",
       " 0.7248863636363636,\n",
       " 0.7353409090909091,\n",
       " 0.6939772727272728,\n",
       " 0.7129545454545454,\n",
       " 0.8012499999999999,\n",
       " 0.6146590909090909,\n",
       " 0.6647727272727273,\n",
       " 0.8483974358974358,\n",
       " 0.400128205128205,\n",
       " 0.8717948717948717]"
      ]
     },
     "execution_count": 87,
     "metadata": {},
     "output_type": "execute_result"
    }
   ],
   "source": [
    "# get the aucs\n",
    "aucs"
   ]
  },
  {
   "cell_type": "code",
   "execution_count": 88,
   "id": "3742cb3b",
   "metadata": {},
   "outputs": [],
   "source": [
    "# get the averages -- use this as a summary performance metric\n",
    "avg_te = np.mean(test_errors)\n",
    "avg_auc = np.mean(aucs)"
   ]
  },
  {
   "cell_type": "code",
   "execution_count": 89,
   "id": "636f6138",
   "metadata": {},
   "outputs": [
    {
     "data": {
      "text/plain": [
       "0.5895445134575571"
      ]
     },
     "execution_count": 89,
     "metadata": {},
     "output_type": "execute_result"
    }
   ],
   "source": [
    "avg_te"
   ]
  },
  {
   "cell_type": "code",
   "execution_count": 90,
   "id": "0816cbe3",
   "metadata": {},
   "outputs": [
    {
     "data": {
      "text/plain": [
       "0.6901720381068207"
      ]
     },
     "execution_count": 90,
     "metadata": {},
     "output_type": "execute_result"
    }
   ],
   "source": [
    "avg_auc"
   ]
  },
  {
   "cell_type": "code",
   "execution_count": 91,
   "id": "c96822b1",
   "metadata": {},
   "outputs": [
    {
     "data": {
      "image/png": "[encoded data removed]",
      "text/plain": [
       "<Figure size 432x288 with 1 Axes>"
      ]
     },
     "metadata": {
      "needs_background": "light"
     },
     "output_type": "display_data"
    }
   ],
   "source": [
    "# plot the test errors and aucs against year\n",
    "plt.plot(years, test_errors, label='Test Error')\n",
    "plt.plot(years, aucs, label='AUC Score')\n",
    "plt.legend()\n",
    "plt.title('Test Error and AUC for Each Year')\n",
    "plt.xlabel('Year')\n",
    "plt.show();"
   ]
  },
  {
   "cell_type": "markdown",
   "id": "5ed8e195",
   "metadata": {},
   "source": [
    "# Comparing Results:"
   ]
  },
  {
   "cell_type": "code",
   "execution_count": 95,
   "id": "f559d7fa",
   "metadata": {},
   "outputs": [],
   "source": [
    "# when ranking offensive stats descending and defensive stats ascending we get: avg_te = 0.5828, avg_auc = 0.6720\n",
    "# when ranking all stats descending we get: avg_te = 0.5911, avg_auc = 0.6664 (with scoring=roc_auc_ovr)\n",
    "# when ranking all stats ascending we get: avg_te = 0.6014, avg_auc = 0.6627 (with scoring=roc_auc_ovr)\n",
    "# when using both the data and the (descending) ranks we get: avg_te = 0.5595, avg_auc = 0.6974 (with scoring=roc_auc_ovr)\n",
    "# when using both the data and the descending offensive ranks and ascending defensive ranks we get: \n",
    "#                                                                               avg_te = 0.5766, avg_auc = 0.6802\n",
    "# when using just the raw data and not the ranks we get avg_te = 0.60004 and avg_auc = 0.6859 (with scoring=roc_auc_ovr)"
   ]
  },
  {
   "cell_type": "markdown",
   "id": "511467ec",
   "metadata": {},
   "source": [
    "We found that the best-performing model used both the raw data and the descending ranks. This model produced an average test error of $0.5595$ and an average AUC score of $0.6974$."
   ]
  }
 ],
 "metadata": {
  "kernelspec": {
   "display_name": "Python 3",
   "language": "python",
   "name": "python3"
  },
  "language_info": {
   "codemirror_mode": {
    "name": "ipython",
    "version": 3
   },
   "file_extension": ".py",
   "mimetype": "text/x-python",
   "name": "python",
   "nbconvert_exporter": "python",
   "pygments_lexer": "ipython3",
   "version": "3.8.8"
  }
 },
 "nbformat": 4,
 "nbformat_minor": 5
}
