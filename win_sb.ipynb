{
 "cells": [
  {
   "cell_type": "code",
   "execution_count": 42,
   "id": "d17854e1",
   "metadata": {},
   "outputs": [],
   "source": [
    "import numpy as np\n",
    "import pandas as pd\n",
    "import seaborn as sns\n",
    "from sklearn.model_selection import train_test_split\n",
    "from sklearn.linear_model import LogisticRegression\n",
    "from sklearn.metrics import accuracy_score\n",
    "from sklearn.metrics import classification_report\n",
    "from matplotlib import pyplot as plt\n",
    "from sklearn.tree import DecisionTreeClassifier\n",
    "from sklearn import tree\n",
    "from sklearn.ensemble import RandomForestClassifier\n",
    "from sklearn.model_selection import KFold\n",
    "from sklearn.model_selection import cross_val_score\n",
    "from sklearn.feature_selection import RFECV\n",
    "from sklearn.model_selection import GridSearchCV\n",
    "from sklearn.metrics import roc_auc_score\n",
    "import imblearn\n",
    "from imblearn.over_sampling import SMOTE\n",
    "from sklearn.metrics import roc_curve, auc "
   ]
  },
  {
   "cell_type": "code",
   "execution_count": 43,
   "id": "f40d42e1",
   "metadata": {},
   "outputs": [],
   "source": [
    "# read in the data and eliminate unnecessary index columns\n",
    "df = pd.read_csv(\"final_no_pct.csv\")\n",
    "df = df.drop(['Unnamed: 0', 'Unnamed: 0.1'], axis=1)"
   ]
  },
  {
   "cell_type": "code",
   "execution_count": 44,
   "id": "2cb87371",
   "metadata": {},
   "outputs": [],
   "source": [
    "# convert playoff result to categorical variable\n",
    "df['Playoff_Result'] = df['Playoff_Result'].astype('category')"
   ]
  },
  {
   "cell_type": "code",
   "execution_count": 45,
   "id": "ccd4db61",
   "metadata": {},
   "outputs": [],
   "source": [
    "# get the necessary columns\n",
    "df_sb = df.iloc[:,[1,2,30,32,4,8,19,22,35,25,11,13,16,63,69,57,53,44,10]].copy() "
   ]
  },
  {
   "cell_type": "code",
   "execution_count": 46,
   "id": "d686d8cd",
   "metadata": {},
   "outputs": [],
   "source": [
    "# create binary indicator variable for whether or not a team won the superbowl -- use this as the response\n",
    "df_sb['Wins_SB'] = (df_sb['Playoff_Result'] == 5).astype('int')\n",
    "df_sb['Wins_SB'] = df_sb['Wins_SB'].astype('category')"
   ]
  },
  {
   "cell_type": "code",
   "execution_count": 47,
   "id": "3d0a9a19",
   "metadata": {},
   "outputs": [],
   "source": [
    "# no longer interested in playoff result variable\n",
    "df_sb = df_sb.drop(['Playoff_Result'], axis=1)"
   ]
  },
  {
   "cell_type": "code",
   "execution_count": 66,
   "id": "f927e5b7",
   "metadata": {},
   "outputs": [],
   "source": [
    "# using just the data and not ranks\n",
    "X = df_sb.drop(['Wins_SB'], axis=1)\n",
    "y = df_sb['Wins_SB']"
   ]
  },
  {
   "cell_type": "code",
   "execution_count": 48,
   "id": "3d7e4c48",
   "metadata": {},
   "outputs": [],
   "source": [
    "# ranking all stats descending\n",
    "cols = df_sb.columns\n",
    "df_rank = df_sb.copy()\n",
    "for i in cols:\n",
    "    if i == 'Wins_SB' or i == 'Year':\n",
    "        continue\n",
    "    else:\n",
    "        df_rank[i] = df_rank.groupby(['Year'])[i].rank(ascending=False)"
   ]
  },
  {
   "cell_type": "code",
   "execution_count": 96,
   "id": "d19430a2",
   "metadata": {},
   "outputs": [],
   "source": [
    "# ranking offensive stats descending and defensive stats ascending\n",
    "cols = df_sb.columns\n",
    "df_rank = df_sb.copy()\n",
    "for i in cols:\n",
    "    if i == 'Wins_SB' or i == 'Year': \n",
    "        continue\n",
    "    else:\n",
    "        if i in ['O_Sc%', 'O_EXP', 'W', 'PD', 'OP_Yds', 'O_NY/A', 'O_3D%', 'OR_TD', 'T_O_Yds', 'O_Y/P', 'O_1stD', 'SoS']:\n",
    "            df_rank[i] = df_rank.groupby(['Year'])[i].rank(ascending=False)\n",
    "        else:\n",
    "            df_rank[i] = df_rank.groupby(['Year'])[i].rank(ascending=True)"
   ]
  },
  {
   "cell_type": "code",
   "execution_count": 97,
   "id": "c21277a4",
   "metadata": {},
   "outputs": [],
   "source": [
    "# use both the data and the ranks (descending)\n",
    "cols = df_sb.columns\n",
    "df_rank = df_sb.copy()\n",
    "for i in cols:\n",
    "    if i == 'Wins_SB' or i == 'Year' or i == 'SoS': # don't rank SoS?\n",
    "        continue\n",
    "    else:\n",
    "        df_rank[i + \"_rank\"] = df_rank.groupby(['Year'])[i].rank(ascending=False)"
   ]
  },
  {
   "cell_type": "code",
   "execution_count": 49,
   "id": "8ec1233c",
   "metadata": {},
   "outputs": [],
   "source": [
    "X = df_rank.drop(['Wins_SB'], axis=1)\n",
    "y = df_rank['Wins_SB']"
   ]
  },
  {
   "cell_type": "code",
   "execution_count": 67,
   "id": "81b8fb0e",
   "metadata": {},
   "outputs": [],
   "source": [
    "# find the best tuning parameters for the data\n",
    "# use roc_auc as performance metric\n",
    "clf = DecisionTreeClassifier(random_state=100)\n",
    "path = clf.cost_complexity_pruning_path(X, y)\n",
    "ccp_alphas = path.ccp_alphas\n",
    "\n",
    "# use 5-fold CV to select the optimal tuning parameter\n",
    "kfoldcv_accuracy = np.zeros(ccp_alphas.shape[0])\n",
    "kfold = KFold(n_splits = 5, random_state=100, shuffle=True)\n",
    "for i in range(ccp_alphas.shape[0]):\n",
    "    model = RandomForestClassifier(random_state=100, ccp_alpha= ccp_alphas[i])\n",
    "    kfoldcv_accuracy[i] = np.mean(cross_val_score(model, X, y, cv = kfold, scoring='roc_auc'))"
   ]
  },
  {
   "cell_type": "code",
   "execution_count": 68,
   "id": "93bb84e8",
   "metadata": {},
   "outputs": [
    {
     "name": "stdout",
     "output_type": "stream",
     "text": [
      "12\n",
      "0.015394751987282379\n"
     ]
    }
   ],
   "source": [
    "# find the tuning parameter with the best performance\n",
    "best_ind = np.argmax(kfoldcv_accuracy)\n",
    "print(best_ind) \n",
    "best = ccp_alphas[best_ind]\n",
    "print(best)"
   ]
  },
  {
   "cell_type": "code",
   "execution_count": 69,
   "id": "2e264428",
   "metadata": {},
   "outputs": [],
   "source": [
    "# Use GridSearchCv to tune other hyperparameters\n",
    "\n",
    "param_grid = {'max_depth': range(3,15), 'max_features':['log2','sqrt'], 'ccp_alpha':[0.0, best]}\n",
    "\n",
    "#Initialize the classifier\n",
    "rf_clf = GridSearchCV(RandomForestClassifier(random_state=100), param_grid, \n",
    "                      scoring='roc_auc',refit=False, n_jobs=-1)"
   ]
  },
  {
   "cell_type": "code",
   "execution_count": 70,
   "id": "72d7c68f",
   "metadata": {},
   "outputs": [
    {
     "name": "stdout",
     "output_type": "stream",
     "text": [
      "{'ccp_alpha': 0.0, 'max_depth': 3, 'max_features': 'log2'} 0.6987858220211162\n"
     ]
    }
   ],
   "source": [
    "x = rf_clf.fit(X, y)\n",
    "\n",
    "print(x.best_params_, x.best_score_)"
   ]
  },
  {
   "cell_type": "code",
   "execution_count": 71,
   "id": "c6b70e55",
   "metadata": {},
   "outputs": [],
   "source": [
    "# store the optimal hyperparameters\n",
    "alpha = x.best_params_.get('ccp_alpha')\n",
    "md = x.best_params_.get('max_depth')\n",
    "mf = x.best_params_.get('max_features')"
   ]
  },
  {
   "cell_type": "code",
   "execution_count": 72,
   "id": "448272c0",
   "metadata": {},
   "outputs": [],
   "source": [
    "# this function fits a random forest classification model with the specified hyperparameters to the data and returns\n",
    "# a tuple containing the test error and auc score\n",
    "def fit_model(train, test, alpha, md, mf):\n",
    "    # separate the response\n",
    "    X_train = train.drop(['Wins_SB'], axis=1)\n",
    "    X_test = test.drop(['Wins_SB'], axis=1)\n",
    "    y_train = train['Wins_SB']\n",
    "    y_test = test['Wins_SB']\n",
    "    \n",
    "    # try using SMOTE\n",
    "    oversample = SMOTE()\n",
    "\n",
    "    X_train, y_train = oversample.fit_resample(X_train, y_train)\n",
    "    \n",
    "    # fit model with best parameters\n",
    "    final_cl_rf = RandomForestClassifier(ccp_alpha=alpha, max_depth=md, max_features=mf, \n",
    "                                         random_state=100)\n",
    "    final_cl_rf.fit(X_train, y_train)\n",
    "    \n",
    "    # compute the predicted probabilities of a team winning the superbowl\n",
    "    # set the superbowl winner as the team with the highest such probability\n",
    "    pred_probs = final_cl_rf.predict_proba(X_test)\n",
    "    y_pred = np.zeros(X_test.shape[0])\n",
    "    y_pred[pred_probs[:,0].argmax()] = 1\n",
    "\n",
    "    # calculate the test error\n",
    "    te = np.mean(y_pred != y_test)\n",
    "    \n",
    "    # get auc score\n",
    "    y_pred_prob = final_cl_rf.predict_proba(X_test)\n",
    "    fpr, tpr, thresholds = roc_curve(y_test, y_pred_prob[:,1])\n",
    "    roc_auc =  auc(fpr, tpr)\n",
    "    \n",
    "    return [te, roc_auc]\n",
    "    "
   ]
  },
  {
   "cell_type": "code",
   "execution_count": 73,
   "id": "e7e3c0e5",
   "metadata": {},
   "outputs": [
    {
     "name": "stdout",
     "output_type": "stream",
     "text": [
      "1.0\n",
      "1.0\n",
      "1.0\n",
      "1.0\n",
      "1.0\n",
      "1.0\n",
      "1.0\n",
      "1.0\n",
      "1.0\n",
      "1.0\n",
      "1.0\n",
      "1.0\n",
      "1.0\n",
      "1.0\n",
      "1.0\n",
      "1.0\n",
      "1.0\n",
      "1.0\n",
      "1.0\n",
      "1.0\n",
      "1.0\n",
      "1.0\n",
      "1.0\n",
      "1.0\n",
      "1.0\n",
      "1.0\n",
      "1.0\n",
      "1.0\n",
      "1.0\n",
      "1.0\n",
      "1.0\n",
      "1.0\n",
      "1.0\n",
      "1.0\n",
      "1.0\n",
      "1.0\n",
      "1.0\n",
      "1.0\n",
      "1.0\n",
      "1.0\n",
      "1.0\n",
      "1.0\n",
      "1.0\n",
      "1.0\n",
      "1.0\n",
      "1.0\n"
     ]
    }
   ],
   "source": [
    "# for each year, hold that year out as a test set and use the data for remaining years as training\n",
    "# fit a random forest classification model to the data (using each year as test set)\n",
    "# and store the test error and auc score for each model\n",
    "years = list(range(2000,2023))\n",
    "\n",
    "test_errors = list()\n",
    "aucs = list()\n",
    "\n",
    "for year in years:\n",
    "    train = df_sb[df_sb['Year']!=year]\n",
    "    test =  df_sb[df_sb['Year']==year]\n",
    "    \n",
    "    test_errors.append(fit_model(train, test, alpha, md, mf)[0])\n",
    "    aucs.append(fit_model(train, test, alpha, md, mf)[1])\n",
    "    "
   ]
  },
  {
   "cell_type": "code",
   "execution_count": 74,
   "id": "b130c235",
   "metadata": {},
   "outputs": [
    {
     "data": {
      "text/plain": [
       "[0.16666666666666666,\n",
       " 0.16666666666666666,\n",
       " 0.16666666666666666,\n",
       " 0.16666666666666666,\n",
       " 0.16666666666666666,\n",
       " 0.16666666666666666,\n",
       " 0.16666666666666666,\n",
       " 0.16666666666666666,\n",
       " 0.16666666666666666,\n",
       " 0.16666666666666666,\n",
       " 0.16666666666666666,\n",
       " 0.16666666666666666,\n",
       " 0.16666666666666666,\n",
       " 0.16666666666666666,\n",
       " 0.16666666666666666,\n",
       " 0.16666666666666666,\n",
       " 0.16666666666666666,\n",
       " 0.16666666666666666,\n",
       " 0.16666666666666666,\n",
       " 0.16666666666666666,\n",
       " 0.14285714285714285,\n",
       " 0.14285714285714285,\n",
       " 0.14285714285714285]"
      ]
     },
     "execution_count": 74,
     "metadata": {},
     "output_type": "execute_result"
    }
   ],
   "source": [
    "# get the test errors\n",
    "test_errors"
   ]
  },
  {
   "cell_type": "code",
   "execution_count": 75,
   "id": "58f31989",
   "metadata": {},
   "outputs": [
    {
     "data": {
      "text/plain": [
       "[0.6363636363636364,\n",
       " 0.2727272727272727,\n",
       " 0.9090909090909091,\n",
       " 1.0,\n",
       " 0.8181818181818181,\n",
       " 0.4545454545454546,\n",
       " 0.7272727272727273,\n",
       " 0.09090909090909094,\n",
       " 1.0,\n",
       " 0.18181818181818177,\n",
       " 0.5454545454545454,\n",
       " 0.18181818181818177,\n",
       " 0.18181818181818177,\n",
       " 0.9090909090909091,\n",
       " 0.4545454545454546,\n",
       " 0.5454545454545454,\n",
       " 0.4545454545454546,\n",
       " 0.4545454545454546,\n",
       " 0.4545454545454546,\n",
       " 1.0,\n",
       " 0.9230769230769231,\n",
       " 1.0,\n",
       " 0.8461538461538461]"
      ]
     },
     "execution_count": 75,
     "metadata": {},
     "output_type": "execute_result"
    }
   ],
   "source": [
    "# get the auc scores\n",
    "aucs"
   ]
  },
  {
   "cell_type": "code",
   "execution_count": 76,
   "id": "53c644af",
   "metadata": {},
   "outputs": [],
   "source": [
    "# get the averages\n",
    "avg_te = np.mean(test_errors)\n",
    "avg_auc = np.mean(aucs)"
   ]
  },
  {
   "cell_type": "code",
   "execution_count": 77,
   "id": "60da19b3",
   "metadata": {},
   "outputs": [
    {
     "data": {
      "text/plain": [
       "0.16356107660455482"
      ]
     },
     "execution_count": 77,
     "metadata": {},
     "output_type": "execute_result"
    }
   ],
   "source": [
    "avg_te"
   ]
  },
  {
   "cell_type": "code",
   "execution_count": 78,
   "id": "db1aeaa1",
   "metadata": {},
   "outputs": [
    {
     "data": {
      "text/plain": [
       "0.610519914867741"
      ]
     },
     "execution_count": 78,
     "metadata": {},
     "output_type": "execute_result"
    }
   ],
   "source": [
    "avg_auc"
   ]
  },
  {
   "cell_type": "code",
   "execution_count": 111,
   "id": "2f87d380",
   "metadata": {},
   "outputs": [
    {
     "data": {
      "image/png": "[encoded data removed]",
      "text/plain": [
       "<Figure size 432x288 with 1 Axes>"
      ]
     },
     "metadata": {
      "needs_background": "light"
     },
     "output_type": "display_data"
    }
   ],
   "source": [
    "# plot the test errors and aucs against year\n",
    "plt.plot(years, test_errors, label='Test Error')\n",
    "plt.plot(years, aucs, label='AUC Score')\n",
    "plt.legend()\n",
    "plt.title('Test Error and AUC for Each Year')\n",
    "plt.xlabel('Year')\n",
    "plt.show();"
   ]
  },
  {
   "cell_type": "markdown",
   "id": "4e65f518",
   "metadata": {},
   "source": [
    "# Comparing Results:"
   ]
  },
  {
   "cell_type": "code",
   "execution_count": null,
   "id": "c7994786",
   "metadata": {},
   "outputs": [],
   "source": [
    "# when using just the raw data we get avg_te = 0.0782, avg_auc = 0.6825\n",
    "# when using just the data and SMOTE we get avg_te = 0.2857 and avg_auc = 0.6157\n",
    "# using both the raw data and the descending ranks we get avg_te = 0.0818, avg_auc = 0.6752\n",
    "# using both data and ranks and SMOTE we get avg_te = 0.1920, avg_auc = 0.5622\n",
    "# when using just the descending ranks we get avg_te = 0.0818 and avg_auc = 0.7182 **use this model?\n",
    "# when using desc ranks and SMOTE we get avg_te = 0.1641, avg_auc = 0.5765\n",
    "# when using just the ranks ascending we get avg_te = 0.0818 and avg_auc = 0.6309\n",
    "# when using desc offensive ranks and asc defensive ranks we get avg_te = 0.0818, avg_auc = 0.6400"
   ]
  },
  {
   "cell_type": "code",
   "execution_count": null,
   "id": "8ea96013",
   "metadata": {},
   "outputs": [],
   "source": [
    "# HOWEVER (without SMOTE) THE MODELS PREDICT ALL 0's (no superbowl winners) "
   ]
  }
 ],
 "metadata": {
  "kernelspec": {
   "display_name": "Python 3",
   "language": "python",
   "name": "python3"
  },
  "language_info": {
   "codemirror_mode": {
    "name": "ipython",
    "version": 3
   },
   "file_extension": ".py",
   "mimetype": "text/x-python",
   "name": "python",
   "nbconvert_exporter": "python",
   "pygments_lexer": "ipython3",
   "version": "3.8.8"
  }
 },
 "nbformat": 4,
 "nbformat_minor": 5
}
