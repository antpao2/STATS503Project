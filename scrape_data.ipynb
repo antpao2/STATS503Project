{
 "cells": [
  {
   "cell_type": "code",
   "execution_count": 37,
   "id": "961a744d",
   "metadata": {},
   "outputs": [],
   "source": [
    "import requests\n",
    "import pandas as pd"
   ]
  },
  {
   "cell_type": "code",
   "execution_count": 78,
   "id": "053f6d5d",
   "metadata": {},
   "outputs": [
    {
     "name": "stderr",
     "output_type": "stream",
     "text": [
      "C:\\Users\\12074\\AppData\\Local\\Temp\\ipykernel_26188\\991380939.py:9: DeprecationWarning: executable_path has been deprecated, please pass in a Service object\n",
      "  driver = webdriver.Chrome('C:/chromedriver_win32/chromedriver.exe')\n",
      "C:\\Users\\12074\\AppData\\Local\\Temp\\ipykernel_26188\\991380939.py:9: DeprecationWarning: executable_path has been deprecated, please pass in a Service object\n",
      "  driver = webdriver.Chrome('C:/chromedriver_win32/chromedriver.exe')\n",
      "C:\\Users\\12074\\AppData\\Local\\Temp\\ipykernel_26188\\991380939.py:9: DeprecationWarning: executable_path has been deprecated, please pass in a Service object\n",
      "  driver = webdriver.Chrome('C:/chromedriver_win32/chromedriver.exe')\n",
      "C:\\Users\\12074\\AppData\\Local\\Temp\\ipykernel_26188\\991380939.py:9: DeprecationWarning: executable_path has been deprecated, please pass in a Service object\n",
      "  driver = webdriver.Chrome('C:/chromedriver_win32/chromedriver.exe')\n",
      "C:\\Users\\12074\\AppData\\Local\\Temp\\ipykernel_26188\\991380939.py:9: DeprecationWarning: executable_path has been deprecated, please pass in a Service object\n",
      "  driver = webdriver.Chrome('C:/chromedriver_win32/chromedriver.exe')\n",
      "C:\\Users\\12074\\AppData\\Local\\Temp\\ipykernel_26188\\991380939.py:9: DeprecationWarning: executable_path has been deprecated, please pass in a Service object\n",
      "  driver = webdriver.Chrome('C:/chromedriver_win32/chromedriver.exe')\n",
      "C:\\Users\\12074\\AppData\\Local\\Temp\\ipykernel_26188\\991380939.py:9: DeprecationWarning: executable_path has been deprecated, please pass in a Service object\n",
      "  driver = webdriver.Chrome('C:/chromedriver_win32/chromedriver.exe')\n",
      "C:\\Users\\12074\\AppData\\Local\\Temp\\ipykernel_26188\\991380939.py:9: DeprecationWarning: executable_path has been deprecated, please pass in a Service object\n",
      "  driver = webdriver.Chrome('C:/chromedriver_win32/chromedriver.exe')\n",
      "C:\\Users\\12074\\AppData\\Local\\Temp\\ipykernel_26188\\991380939.py:9: DeprecationWarning: executable_path has been deprecated, please pass in a Service object\n",
      "  driver = webdriver.Chrome('C:/chromedriver_win32/chromedriver.exe')\n",
      "C:\\Users\\12074\\AppData\\Local\\Temp\\ipykernel_26188\\991380939.py:9: DeprecationWarning: executable_path has been deprecated, please pass in a Service object\n",
      "  driver = webdriver.Chrome('C:/chromedriver_win32/chromedriver.exe')\n",
      "C:\\Users\\12074\\AppData\\Local\\Temp\\ipykernel_26188\\991380939.py:9: DeprecationWarning: executable_path has been deprecated, please pass in a Service object\n",
      "  driver = webdriver.Chrome('C:/chromedriver_win32/chromedriver.exe')\n",
      "C:\\Users\\12074\\AppData\\Local\\Temp\\ipykernel_26188\\991380939.py:9: DeprecationWarning: executable_path has been deprecated, please pass in a Service object\n",
      "  driver = webdriver.Chrome('C:/chromedriver_win32/chromedriver.exe')\n",
      "C:\\Users\\12074\\AppData\\Local\\Temp\\ipykernel_26188\\991380939.py:9: DeprecationWarning: executable_path has been deprecated, please pass in a Service object\n",
      "  driver = webdriver.Chrome('C:/chromedriver_win32/chromedriver.exe')\n"
     ]
    }
   ],
   "source": [
    "table_names = [\"afc_standings\", \"nfc_standings\", \"playoff_results\", \"afc_playoff_standings\", \"nfc_playoff_standings\", \n",
    "          \"team_offense\", \"passing_offense\", \"rushing_offense\", \"kick_and_punt_returns\", \"kicking\", \"punting\",\n",
    "          \"scoring_offense\", \"conversions\", \"drive_averages\"]\n",
    "\n",
    "years = list(range(2010, 2023))\n",
    "\n",
    "for year in years:\n",
    "    url = \"https://www.pro-football-reference.com/years/\" + str(year)\n",
    "    driver = webdriver.Chrome('C:/chromedriver_win32/chromedriver.exe')\n",
    "    driver.get(url)\n",
    "    html = driver.page_source\n",
    "    tables = pd.read_html(html)\n",
    "    for i in range(len(tables)):\n",
    "        df = tables[i]\n",
    "        df.to_csv(str(year) + \"_\" + table_names[i] + \".csv\")\n",
    "    driver.close()"
   ]
  },
  {
   "cell_type": "code",
   "execution_count": 80,
   "id": "2ab56a53",
   "metadata": {},
   "outputs": [
    {
     "name": "stderr",
     "output_type": "stream",
     "text": [
      "C:\\Users\\12074\\AppData\\Local\\Temp\\ipykernel_26188\\3143757870.py:8: DeprecationWarning: executable_path has been deprecated, please pass in a Service object\n",
      "  driver = webdriver.Chrome('C:/chromedriver_win32/chromedriver.exe')\n",
      "C:\\Users\\12074\\AppData\\Local\\Temp\\ipykernel_26188\\3143757870.py:8: DeprecationWarning: executable_path has been deprecated, please pass in a Service object\n",
      "  driver = webdriver.Chrome('C:/chromedriver_win32/chromedriver.exe')\n",
      "C:\\Users\\12074\\AppData\\Local\\Temp\\ipykernel_26188\\3143757870.py:8: DeprecationWarning: executable_path has been deprecated, please pass in a Service object\n",
      "  driver = webdriver.Chrome('C:/chromedriver_win32/chromedriver.exe')\n",
      "C:\\Users\\12074\\AppData\\Local\\Temp\\ipykernel_26188\\3143757870.py:8: DeprecationWarning: executable_path has been deprecated, please pass in a Service object\n",
      "  driver = webdriver.Chrome('C:/chromedriver_win32/chromedriver.exe')\n",
      "C:\\Users\\12074\\AppData\\Local\\Temp\\ipykernel_26188\\3143757870.py:8: DeprecationWarning: executable_path has been deprecated, please pass in a Service object\n",
      "  driver = webdriver.Chrome('C:/chromedriver_win32/chromedriver.exe')\n",
      "C:\\Users\\12074\\AppData\\Local\\Temp\\ipykernel_26188\\3143757870.py:8: DeprecationWarning: executable_path has been deprecated, please pass in a Service object\n",
      "  driver = webdriver.Chrome('C:/chromedriver_win32/chromedriver.exe')\n",
      "C:\\Users\\12074\\AppData\\Local\\Temp\\ipykernel_26188\\3143757870.py:8: DeprecationWarning: executable_path has been deprecated, please pass in a Service object\n",
      "  driver = webdriver.Chrome('C:/chromedriver_win32/chromedriver.exe')\n",
      "C:\\Users\\12074\\AppData\\Local\\Temp\\ipykernel_26188\\3143757870.py:8: DeprecationWarning: executable_path has been deprecated, please pass in a Service object\n",
      "  driver = webdriver.Chrome('C:/chromedriver_win32/chromedriver.exe')\n",
      "C:\\Users\\12074\\AppData\\Local\\Temp\\ipykernel_26188\\3143757870.py:8: DeprecationWarning: executable_path has been deprecated, please pass in a Service object\n",
      "  driver = webdriver.Chrome('C:/chromedriver_win32/chromedriver.exe')\n",
      "C:\\Users\\12074\\AppData\\Local\\Temp\\ipykernel_26188\\3143757870.py:8: DeprecationWarning: executable_path has been deprecated, please pass in a Service object\n",
      "  driver = webdriver.Chrome('C:/chromedriver_win32/chromedriver.exe')\n",
      "C:\\Users\\12074\\AppData\\Local\\Temp\\ipykernel_26188\\3143757870.py:8: DeprecationWarning: executable_path has been deprecated, please pass in a Service object\n",
      "  driver = webdriver.Chrome('C:/chromedriver_win32/chromedriver.exe')\n",
      "C:\\Users\\12074\\AppData\\Local\\Temp\\ipykernel_26188\\3143757870.py:8: DeprecationWarning: executable_path has been deprecated, please pass in a Service object\n",
      "  driver = webdriver.Chrome('C:/chromedriver_win32/chromedriver.exe')\n",
      "C:\\Users\\12074\\AppData\\Local\\Temp\\ipykernel_26188\\3143757870.py:8: DeprecationWarning: executable_path has been deprecated, please pass in a Service object\n",
      "  driver = webdriver.Chrome('C:/chromedriver_win32/chromedriver.exe')\n"
     ]
    }
   ],
   "source": [
    "# also need to scrape defensive stat tables for each year\n",
    "# we need tables 0 and 7 for years 2010-2017 and tables 0 and 8 for years 2018-2022\n",
    "\n",
    "years = list(range(2010, 2023))\n",
    "\n",
    "for year in years:\n",
    "    url = \"https://www.pro-football-reference.com/years/\" + str(year) + \"/opp.htm\"\n",
    "    driver = webdriver.Chrome('C:/chromedriver_win32/chromedriver.exe')\n",
    "    driver.get(url)\n",
    "    html = driver.page_source\n",
    "    tables = pd.read_html(html)\n",
    "    for i in [0,7]:\n",
    "        df = tables[i]\n",
    "        if i == 0:\n",
    "            df.to_csv(str(year) + \"_team_defense.csv\")\n",
    "        else:\n",
    "            df.to_csv(str(year) + \"_conversions_against.csv\")\n",
    "    driver.close()"
   ]
  },
  {
   "cell_type": "code",
   "execution_count": 81,
   "id": "806c5566",
   "metadata": {},
   "outputs": [
    {
     "name": "stderr",
     "output_type": "stream",
     "text": [
      "C:\\Users\\12074\\AppData\\Local\\Temp\\ipykernel_26188\\1612157183.py:4: DeprecationWarning: executable_path has been deprecated, please pass in a Service object\n",
      "  driver = webdriver.Chrome('C:/chromedriver_win32/chromedriver.exe')\n",
      "C:\\Users\\12074\\AppData\\Local\\Temp\\ipykernel_26188\\1612157183.py:4: DeprecationWarning: executable_path has been deprecated, please pass in a Service object\n",
      "  driver = webdriver.Chrome('C:/chromedriver_win32/chromedriver.exe')\n",
      "C:\\Users\\12074\\AppData\\Local\\Temp\\ipykernel_26188\\1612157183.py:4: DeprecationWarning: executable_path has been deprecated, please pass in a Service object\n",
      "  driver = webdriver.Chrome('C:/chromedriver_win32/chromedriver.exe')\n",
      "C:\\Users\\12074\\AppData\\Local\\Temp\\ipykernel_26188\\1612157183.py:4: DeprecationWarning: executable_path has been deprecated, please pass in a Service object\n",
      "  driver = webdriver.Chrome('C:/chromedriver_win32/chromedriver.exe')\n",
      "C:\\Users\\12074\\AppData\\Local\\Temp\\ipykernel_26188\\1612157183.py:4: DeprecationWarning: executable_path has been deprecated, please pass in a Service object\n",
      "  driver = webdriver.Chrome('C:/chromedriver_win32/chromedriver.exe')\n"
     ]
    }
   ],
   "source": [
    "years = list(range(2018,2023))\n",
    "for year in years:\n",
    "    url = \"https://www.pro-football-reference.com/years/\" + str(year) + \"/opp.htm\"\n",
    "    driver = webdriver.Chrome('C:/chromedriver_win32/chromedriver.exe')\n",
    "    driver.get(url)\n",
    "    html = driver.page_source\n",
    "    tables = pd.read_html(html)\n",
    "    for i in [0,8]:\n",
    "        df = tables[i]\n",
    "        if i == 0:\n",
    "            df.to_csv(str(year) + \"_team_defense.csv\")\n",
    "        else:\n",
    "            df.to_csv(str(year) + \"_conversions_against.csv\")\n",
    "    driver.close()"
   ]
  },
  {
   "cell_type": "code",
   "execution_count": null,
   "id": "8a4e7212",
   "metadata": {},
   "outputs": [],
   "source": []
  }
 ],
 "metadata": {
  "kernelspec": {
   "display_name": "Python 3 (ipykernel)",
   "language": "python",
   "name": "python3"
  },
  "language_info": {
   "codemirror_mode": {
    "name": "ipython",
    "version": 3
   },
   "file_extension": ".py",
   "mimetype": "text/x-python",
   "name": "python",
   "nbconvert_exporter": "python",
   "pygments_lexer": "ipython3",
   "version": "3.9.12"
  }
 },
 "nbformat": 4,
 "nbformat_minor": 5
}
